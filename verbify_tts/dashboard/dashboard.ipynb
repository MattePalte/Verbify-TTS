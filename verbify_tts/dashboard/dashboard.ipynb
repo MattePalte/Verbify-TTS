{
 "cells": [
  {
   "cell_type": "code",
   "execution_count": 2,
   "metadata": {},
   "outputs": [],
   "source": [
    "import os\n",
    "import seaborn as sns\n",
    "import matplotlib.pyplot as plt\n",
    "import pandas as pd"
   ]
  },
  {
   "cell_type": "code",
   "execution_count": 5,
   "metadata": {},
   "outputs": [
    {
     "data": {
      "text/plain": [
       "[{'filename': '1682501488.2318697.png', 'folder': 'is_shoulder_down'},\n",
       " {'filename': '1682500259.938887.png', 'folder': 'is_shoulder_down'},\n",
       " {'filename': '1682601701.3909159.png', 'folder': 'is_shoulder_down'}]"
      ]
     },
     "execution_count": 5,
     "metadata": {},
     "output_type": "execute_result"
    }
   ],
   "source": [
    "DIR_EXERCISE = \"../../data/exercises_pictures/\"\n",
    "\n",
    "subfolders = os.listdir(DIR_EXERCISE)\n",
    "\n",
    "# for each subfolder get the list of all their file names\n",
    "filenames = {\n",
    "    subfolder: os.listdir(os.path.join(DIR_EXERCISE, subfolder)) \n",
    "    for subfolder in subfolders}\n",
    "all_filenames = [\n",
    "    [{\"filename\": filename, \"folder\": key} for filename in filenames[key]]\n",
    "    for key in filenames.keys()]\n",
    "# flatten the list of lists\n",
    "all_filenames = [item for sublist in all_filenames for item in sublist]\n",
    "\n",
    "all_filenames[:3]"
   ]
  },
  {
   "cell_type": "code",
   "execution_count": 7,
   "metadata": {},
   "outputs": [
    {
     "data": {
      "text/html": [
       "<div>\n",
       "<style scoped>\n",
       "    .dataframe tbody tr th:only-of-type {\n",
       "        vertical-align: middle;\n",
       "    }\n",
       "\n",
       "    .dataframe tbody tr th {\n",
       "        vertical-align: top;\n",
       "    }\n",
       "\n",
       "    .dataframe thead th {\n",
       "        text-align: right;\n",
       "    }\n",
       "</style>\n",
       "<table border=\"1\" class=\"dataframe\">\n",
       "  <thead>\n",
       "    <tr style=\"text-align: right;\">\n",
       "      <th></th>\n",
       "      <th>date</th>\n",
       "      <th>exercise</th>\n",
       "      <th>filename</th>\n",
       "      <th>time</th>\n",
       "    </tr>\n",
       "  </thead>\n",
       "  <tbody>\n",
       "    <tr>\n",
       "      <th>0</th>\n",
       "      <td>2023-04-26</td>\n",
       "      <td>both_elbow_up</td>\n",
       "      <td>66</td>\n",
       "      <td>66</td>\n",
       "    </tr>\n",
       "    <tr>\n",
       "      <th>1</th>\n",
       "      <td>2023-04-26</td>\n",
       "      <td>is_shoulder_down</td>\n",
       "      <td>150</td>\n",
       "      <td>150</td>\n",
       "    </tr>\n",
       "    <tr>\n",
       "      <th>2</th>\n",
       "      <td>2023-04-26</td>\n",
       "      <td>overlap_hands</td>\n",
       "      <td>28</td>\n",
       "      <td>28</td>\n",
       "    </tr>\n",
       "    <tr>\n",
       "      <th>3</th>\n",
       "      <td>2023-04-27</td>\n",
       "      <td>both_elbow_up</td>\n",
       "      <td>78</td>\n",
       "      <td>78</td>\n",
       "    </tr>\n",
       "    <tr>\n",
       "      <th>4</th>\n",
       "      <td>2023-04-27</td>\n",
       "      <td>is_shoulder_down</td>\n",
       "      <td>183</td>\n",
       "      <td>183</td>\n",
       "    </tr>\n",
       "  </tbody>\n",
       "</table>\n",
       "</div>"
      ],
      "text/plain": [
       "        date          exercise  filename  time\n",
       "0 2023-04-26     both_elbow_up        66    66\n",
       "1 2023-04-26  is_shoulder_down       150   150\n",
       "2 2023-04-26     overlap_hands        28    28\n",
       "3 2023-04-27     both_elbow_up        78    78\n",
       "4 2023-04-27  is_shoulder_down       183   183"
      ]
     },
     "execution_count": 7,
     "metadata": {},
     "output_type": "execute_result"
    }
   ],
   "source": [
    "df = pd.DataFrame.from_dict(all_filenames)\n",
    "df.rename(columns={\"folder\": \"exercise\"}, inplace=True)\n",
    "# get the filestem as time\n",
    "df['time'] = df['filename'].apply(lambda x: int(x.split(\".\")[0]))\n",
    "# convert time in date and group by date day\n",
    "df['date'] = pd.to_datetime(df['time'], unit='s').dt.date\n",
    "df['date'] = pd.to_datetime(df['date'])\n",
    "df_grouped = df.groupby(['date', 'exercise']).count().reset_index()\n",
    "\n",
    "df_grouped.head()"
   ]
  },
  {
   "cell_type": "code",
   "execution_count": 8,
   "metadata": {},
   "outputs": [
    {
     "data": {
      "text/plain": [
       "<Axes: xlabel='date', ylabel='count'>"
      ]
     },
     "execution_count": 8,
     "metadata": {},
     "output_type": "execute_result"
    },
    {
     "data": {
      "image/png": "[encoded data removed]",
      "text/plain": [
       "<Figure size 640x480 with 1 Axes>"
      ]
     },
     "metadata": {},
     "output_type": "display_data"
    }
   ],
   "source": [
    "# create histogram\n",
    "sns.countplot(\n",
    "    data=df,\n",
    "    x=\"date\",\n",
    "    hue=\"exercise\",\n",
    ")"
   ]
  },
  {
   "cell_type": "code",
   "execution_count": null,
   "metadata": {},
   "outputs": [],
   "source": []
  }
 ],
 "metadata": {
  "kernelspec": {
   "display_name": "venv38",
   "language": "python",
   "name": "python3"
  },
  "language_info": {
   "codemirror_mode": {
    "name": "ipython",
    "version": 3
   },
   "file_extension": ".py",
   "mimetype": "text/x-python",
   "name": "python",
   "nbconvert_exporter": "python",
   "pygments_lexer": "ipython3",
   "version": "3.8.8"
  },
  "orig_nbformat": 4
 },
 "nbformat": 4,
 "nbformat_minor": 2
}
